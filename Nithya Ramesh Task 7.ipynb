{
 "cells": [
  {
   "cell_type": "markdown",
   "id": "professional-salvation",
   "metadata": {},
   "source": [
    "# Nithya Ramesh"
   ]
  },
  {
   "cell_type": "markdown",
   "id": "employed-screening",
   "metadata": {},
   "source": [
    "# Data Science and Business Analytics intern\n",
    "# @The Sparks Foundation(TSF)"
   ]
  },
  {
   "cell_type": "markdown",
   "id": "standard-installation",
   "metadata": {},
   "source": [
    "# Task 7 (Stock Market Prediction using Numerical and Textual Analysis)"
   ]
  },
  {
   "cell_type": "markdown",
   "id": "veterinary-speed",
   "metadata": {},
   "source": [
    "#### Objective: Create a hybrid model for stock price/performance prediction using numerical analysis of historical stock prices, and sentimental analysis of news headlines"
   ]
  },
  {
   "cell_type": "markdown",
   "id": "selective-telling",
   "metadata": {},
   "source": [
    "#### Importing Libraries "
   ]
  },
  {
   "cell_type": "code",
   "execution_count": 1,
   "id": "sixth-norwegian",
   "metadata": {},
   "outputs": [],
   "source": [
    "import pandas as pd\n",
    "import numpy as np  \n",
    "import matplotlib.pyplot as plt  \n",
    "%matplotlib inline\n",
    "import seaborn as sns"
   ]
  },
  {
   "cell_type": "markdown",
   "id": "working-ensemble",
   "metadata": {},
   "source": [
    "#### Reading and Checking Data of Stock Dataset"
   ]
  },
  {
   "cell_type": "code",
   "execution_count": 2,
   "id": "minute-target",
   "metadata": {},
   "outputs": [
    {
     "data": {
      "text/html": [
       "<div>\n",
       "<style scoped>\n",
       "    .dataframe tbody tr th:only-of-type {\n",
       "        vertical-align: middle;\n",
       "    }\n",
       "\n",
       "    .dataframe tbody tr th {\n",
       "        vertical-align: top;\n",
       "    }\n",
       "\n",
       "    .dataframe thead th {\n",
       "        text-align: right;\n",
       "    }\n",
       "</style>\n",
       "<table border=\"1\" class=\"dataframe\">\n",
       "  <thead>\n",
       "    <tr style=\"text-align: right;\">\n",
       "      <th></th>\n",
       "      <th>Date</th>\n",
       "      <th>Open</th>\n",
       "      <th>High</th>\n",
       "      <th>Low</th>\n",
       "      <th>Close</th>\n",
       "      <th>Adj Close</th>\n",
       "      <th>Volume</th>\n",
       "    </tr>\n",
       "  </thead>\n",
       "  <tbody>\n",
       "    <tr>\n",
       "      <th>0</th>\n",
       "      <td>2020-09-14</td>\n",
       "      <td>11269.50</td>\n",
       "      <td>11302.50</td>\n",
       "      <td>10918.75</td>\n",
       "      <td>11144.80957</td>\n",
       "      <td>11144.80957</td>\n",
       "      <td>957669</td>\n",
       "    </tr>\n",
       "    <tr>\n",
       "      <th>1</th>\n",
       "      <td>2020-09-21</td>\n",
       "      <td>10920.00</td>\n",
       "      <td>11222.00</td>\n",
       "      <td>10656.50</td>\n",
       "      <td>11136.50000</td>\n",
       "      <td>11136.50000</td>\n",
       "      <td>3350326</td>\n",
       "    </tr>\n",
       "    <tr>\n",
       "      <th>2</th>\n",
       "      <td>2020-09-28</td>\n",
       "      <td>11145.00</td>\n",
       "      <td>11604.75</td>\n",
       "      <td>11140.25</td>\n",
       "      <td>11233.25000</td>\n",
       "      <td>11233.25000</td>\n",
       "      <td>3047573</td>\n",
       "    </tr>\n",
       "    <tr>\n",
       "      <th>3</th>\n",
       "      <td>2020-10-05</td>\n",
       "      <td>11308.50</td>\n",
       "      <td>11739.00</td>\n",
       "      <td>11197.50</td>\n",
       "      <td>11724.75000</td>\n",
       "      <td>11724.75000</td>\n",
       "      <td>2265592</td>\n",
       "    </tr>\n",
       "    <tr>\n",
       "      <th>4</th>\n",
       "      <td>2020-10-12</td>\n",
       "      <td>11722.75</td>\n",
       "      <td>12249.00</td>\n",
       "      <td>11687.75</td>\n",
       "      <td>11798.00000</td>\n",
       "      <td>11798.00000</td>\n",
       "      <td>3231323</td>\n",
       "    </tr>\n",
       "  </tbody>\n",
       "</table>\n",
       "</div>"
      ],
      "text/plain": [
       "         Date      Open      High       Low        Close    Adj Close   Volume\n",
       "0  2020-09-14  11269.50  11302.50  10918.75  11144.80957  11144.80957   957669\n",
       "1  2020-09-21  10920.00  11222.00  10656.50  11136.50000  11136.50000  3350326\n",
       "2  2020-09-28  11145.00  11604.75  11140.25  11233.25000  11233.25000  3047573\n",
       "3  2020-10-05  11308.50  11739.00  11197.50  11724.75000  11724.75000  2265592\n",
       "4  2020-10-12  11722.75  12249.00  11687.75  11798.00000  11798.00000  3231323"
      ]
     },
     "execution_count": 2,
     "metadata": {},
     "output_type": "execute_result"
    }
   ],
   "source": [
    "data = pd.read_csv(\"NQ=F.csv\")\n",
    "data.head()"
   ]
  },
  {
   "cell_type": "code",
   "execution_count": 3,
   "id": "stunning-toddler",
   "metadata": {},
   "outputs": [
    {
     "data": {
      "text/plain": [
       "(27, 7)"
      ]
     },
     "execution_count": 3,
     "metadata": {},
     "output_type": "execute_result"
    }
   ],
   "source": [
    "data.shape"
   ]
  },
  {
   "cell_type": "code",
   "execution_count": 4,
   "id": "adjusted-flood",
   "metadata": {},
   "outputs": [
    {
     "name": "stdout",
     "output_type": "stream",
     "text": [
      "<class 'pandas.core.frame.DataFrame'>\n",
      "RangeIndex: 27 entries, 0 to 26\n",
      "Data columns (total 7 columns):\n",
      " #   Column     Non-Null Count  Dtype  \n",
      "---  ------     --------------  -----  \n",
      " 0   Date       27 non-null     object \n",
      " 1   Open       27 non-null     float64\n",
      " 2   High       27 non-null     float64\n",
      " 3   Low        27 non-null     float64\n",
      " 4   Close      27 non-null     float64\n",
      " 5   Adj Close  27 non-null     float64\n",
      " 6   Volume     27 non-null     int64  \n",
      "dtypes: float64(5), int64(1), object(1)\n",
      "memory usage: 1.6+ KB\n"
     ]
    }
   ],
   "source": [
    "data.info()"
   ]
  },
  {
   "cell_type": "code",
   "execution_count": 5,
   "id": "separate-making",
   "metadata": {},
   "outputs": [
    {
     "data": {
      "text/plain": [
       "Date         27\n",
       "Open         27\n",
       "High         27\n",
       "Low          27\n",
       "Close        27\n",
       "Adj Close    27\n",
       "Volume       27\n",
       "dtype: int64"
      ]
     },
     "execution_count": 5,
     "metadata": {},
     "output_type": "execute_result"
    }
   ],
   "source": [
    "data.nunique()"
   ]
  },
  {
   "cell_type": "code",
   "execution_count": 6,
   "id": "annual-titanium",
   "metadata": {},
   "outputs": [
    {
     "data": {
      "text/plain": [
       "Index(['Date', 'Open', 'High', 'Low', 'Close', 'Adj Close', 'Volume'], dtype='object')"
      ]
     },
     "execution_count": 6,
     "metadata": {},
     "output_type": "execute_result"
    }
   ],
   "source": [
    "list_columns = data.columns\n",
    "list_columns"
   ]
  },
  {
   "cell_type": "markdown",
   "id": "continued-crime",
   "metadata": {},
   "source": [
    "#### Statistical Information of the dataframe"
   ]
  },
  {
   "cell_type": "code",
   "execution_count": 7,
   "id": "likely-stanley",
   "metadata": {},
   "outputs": [
    {
     "data": {
      "text/html": [
       "<div>\n",
       "<style scoped>\n",
       "    .dataframe tbody tr th:only-of-type {\n",
       "        vertical-align: middle;\n",
       "    }\n",
       "\n",
       "    .dataframe tbody tr th {\n",
       "        vertical-align: top;\n",
       "    }\n",
       "\n",
       "    .dataframe thead th {\n",
       "        text-align: right;\n",
       "    }\n",
       "</style>\n",
       "<table border=\"1\" class=\"dataframe\">\n",
       "  <thead>\n",
       "    <tr style=\"text-align: right;\">\n",
       "      <th></th>\n",
       "      <th>Open</th>\n",
       "      <th>High</th>\n",
       "      <th>Low</th>\n",
       "      <th>Close</th>\n",
       "      <th>Adj Close</th>\n",
       "      <th>Volume</th>\n",
       "    </tr>\n",
       "  </thead>\n",
       "  <tbody>\n",
       "    <tr>\n",
       "      <th>count</th>\n",
       "      <td>27.000000</td>\n",
       "      <td>27.000000</td>\n",
       "      <td>27.000000</td>\n",
       "      <td>27.000000</td>\n",
       "      <td>27.000000</td>\n",
       "      <td>2.700000e+01</td>\n",
       "    </tr>\n",
       "    <tr>\n",
       "      <th>mean</th>\n",
       "      <td>12375.222222</td>\n",
       "      <td>12682.296296</td>\n",
       "      <td>12090.648148</td>\n",
       "      <td>12446.800709</td>\n",
       "      <td>12446.800709</td>\n",
       "      <td>2.455071e+06</td>\n",
       "    </tr>\n",
       "    <tr>\n",
       "      <th>std</th>\n",
       "      <td>829.342242</td>\n",
       "      <td>787.142227</td>\n",
       "      <td>789.074666</td>\n",
       "      <td>800.091070</td>\n",
       "      <td>800.091070</td>\n",
       "      <td>8.708322e+05</td>\n",
       "    </tr>\n",
       "    <tr>\n",
       "      <th>min</th>\n",
       "      <td>10920.000000</td>\n",
       "      <td>11222.000000</td>\n",
       "      <td>10656.500000</td>\n",
       "      <td>11046.250000</td>\n",
       "      <td>11046.250000</td>\n",
       "      <td>7.795130e+05</td>\n",
       "    </tr>\n",
       "    <tr>\n",
       "      <th>25%</th>\n",
       "      <td>11769.750000</td>\n",
       "      <td>12107.875000</td>\n",
       "      <td>11507.125000</td>\n",
       "      <td>11851.875000</td>\n",
       "      <td>11851.875000</td>\n",
       "      <td>1.903084e+06</td>\n",
       "    </tr>\n",
       "    <tr>\n",
       "      <th>50%</th>\n",
       "      <td>12525.000000</td>\n",
       "      <td>12782.500000</td>\n",
       "      <td>12218.250000</td>\n",
       "      <td>12663.750000</td>\n",
       "      <td>12663.750000</td>\n",
       "      <td>2.297992e+06</td>\n",
       "    </tr>\n",
       "    <tr>\n",
       "      <th>75%</th>\n",
       "      <td>12919.500000</td>\n",
       "      <td>13313.125000</td>\n",
       "      <td>12694.625000</td>\n",
       "      <td>12922.375000</td>\n",
       "      <td>12922.375000</td>\n",
       "      <td>3.137182e+06</td>\n",
       "    </tr>\n",
       "    <tr>\n",
       "      <th>max</th>\n",
       "      <td>13829.500000</td>\n",
       "      <td>13900.500000</td>\n",
       "      <td>13516.750000</td>\n",
       "      <td>13804.750000</td>\n",
       "      <td>13804.750000</td>\n",
       "      <td>3.931585e+06</td>\n",
       "    </tr>\n",
       "  </tbody>\n",
       "</table>\n",
       "</div>"
      ],
      "text/plain": [
       "               Open          High           Low         Close     Adj Close  \\\n",
       "count     27.000000     27.000000     27.000000     27.000000     27.000000   \n",
       "mean   12375.222222  12682.296296  12090.648148  12446.800709  12446.800709   \n",
       "std      829.342242    787.142227    789.074666    800.091070    800.091070   \n",
       "min    10920.000000  11222.000000  10656.500000  11046.250000  11046.250000   \n",
       "25%    11769.750000  12107.875000  11507.125000  11851.875000  11851.875000   \n",
       "50%    12525.000000  12782.500000  12218.250000  12663.750000  12663.750000   \n",
       "75%    12919.500000  13313.125000  12694.625000  12922.375000  12922.375000   \n",
       "max    13829.500000  13900.500000  13516.750000  13804.750000  13804.750000   \n",
       "\n",
       "             Volume  \n",
       "count  2.700000e+01  \n",
       "mean   2.455071e+06  \n",
       "std    8.708322e+05  \n",
       "min    7.795130e+05  \n",
       "25%    1.903084e+06  \n",
       "50%    2.297992e+06  \n",
       "75%    3.137182e+06  \n",
       "max    3.931585e+06  "
      ]
     },
     "execution_count": 7,
     "metadata": {},
     "output_type": "execute_result"
    }
   ],
   "source": [
    "data.describe()"
   ]
  },
  {
   "cell_type": "markdown",
   "id": "swiss-object",
   "metadata": {},
   "source": [
    "#### Heatmap using Statistical Information of the dataframe"
   ]
  },
  {
   "cell_type": "code",
   "execution_count": 8,
   "id": "diagnostic-irish",
   "metadata": {},
   "outputs": [
    {
     "data": {
      "text/plain": [
       "Text(0.5, 1.0, 'Heatmap')"
      ]
     },
     "execution_count": 8,
     "metadata": {},
     "output_type": "execute_result"
    },
    {
     "data": {
      "image/png": "[encoded data removed]",
      "text/plain": [
       "<Figure size 576x288 with 2 Axes>"
      ]
     },
     "metadata": {
      "needs_background": "light"
     },
     "output_type": "display_data"
    }
   ],
   "source": [
    "plt.figure(figsize=(8,4))\n",
    "sns.heatmap(data.describe(), annot = True, fmt = '.2f', cmap = 'rainbow')\n",
    "plt.xticks(fontsize = 12)\n",
    "plt.yticks(fontsize = 12)\n",
    "plt.title(\"Heatmap\", fontsize = 16)"
   ]
  },
  {
   "cell_type": "code",
   "execution_count": 9,
   "id": "applicable-unknown",
   "metadata": {},
   "outputs": [
    {
     "data": {
      "text/plain": [
       "Date         0\n",
       "Open         0\n",
       "High         0\n",
       "Low          0\n",
       "Close        0\n",
       "Adj Close    0\n",
       "Volume       0\n",
       "dtype: int64"
      ]
     },
     "execution_count": 9,
     "metadata": {},
     "output_type": "execute_result"
    }
   ],
   "source": [
    "data.isnull().sum()"
   ]
  },
  {
   "cell_type": "code",
   "execution_count": 10,
   "id": "reverse-package",
   "metadata": {},
   "outputs": [],
   "source": [
    "data.dropna(inplace=True)"
   ]
  },
  {
   "cell_type": "code",
   "execution_count": 11,
   "id": "champion-stack",
   "metadata": {},
   "outputs": [
    {
     "data": {
      "text/plain": [
       "Date         0\n",
       "Open         0\n",
       "High         0\n",
       "Low          0\n",
       "Close        0\n",
       "Adj Close    0\n",
       "Volume       0\n",
       "dtype: int64"
      ]
     },
     "execution_count": 11,
     "metadata": {},
     "output_type": "execute_result"
    }
   ],
   "source": [
    "data.isnull().sum()"
   ]
  },
  {
   "cell_type": "code",
   "execution_count": 12,
   "id": "circular-yesterday",
   "metadata": {},
   "outputs": [
    {
     "data": {
      "text/plain": [
       "Date          object\n",
       "Open         float64\n",
       "High         float64\n",
       "Low          float64\n",
       "Close        float64\n",
       "Adj Close    float64\n",
       "Volume         int64\n",
       "dtype: object"
      ]
     },
     "execution_count": 12,
     "metadata": {},
     "output_type": "execute_result"
    }
   ],
   "source": [
    "data.dtypes"
   ]
  },
  {
   "cell_type": "code",
   "execution_count": 13,
   "id": "permanent-graduate",
   "metadata": {},
   "outputs": [],
   "source": [
    "data['Date'] = pd.to_datetime(data['Date'] ,format='%Y-%m-%d')\n",
    "data.index = data['Date']"
   ]
  },
  {
   "cell_type": "markdown",
   "id": "rapid-culture",
   "metadata": {},
   "source": [
    "#### History of trading open price"
   ]
  },
  {
   "cell_type": "code",
   "execution_count": 14,
   "id": "active-coating",
   "metadata": {},
   "outputs": [
    {
     "data": {
      "image/png": "[encoded data removed]",
      "text/plain": [
       "<Figure size 576x288 with 1 Axes>"
      ]
     },
     "metadata": {
      "needs_background": "light"
     },
     "output_type": "display_data"
    }
   ],
   "source": [
    "plt.figure(figsize=(8,4))\n",
    "plt.plot(data['Date'], data['Open'])\n",
    "plt.title(\"Open Price History\", fontsize = 16)\n",
    "plt.xlabel(\"Date\", fontsize = 14)\n",
    "plt.ylabel(\"Price\", fontsize = 14)\n",
    "plt.show()"
   ]
  },
  {
   "cell_type": "markdown",
   "id": "corresponding-bunny",
   "metadata": {},
   "source": [
    "#### History of trading close price"
   ]
  },
  {
   "cell_type": "code",
   "execution_count": 15,
   "id": "advised-treaty",
   "metadata": {},
   "outputs": [
    {
     "data": {
      "image/png": "[encoded data removed]",
      "text/plain": [
       "<Figure size 576x288 with 1 Axes>"
      ]
     },
     "metadata": {
      "needs_background": "light"
     },
     "output_type": "display_data"
    }
   ],
   "source": [
    "plt.figure(figsize=(8,4))\n",
    "plt.plot(data['Date'], data['Close'])\n",
    "plt.title(\"Close Price History\", fontsize = 16)\n",
    "plt.xlabel(\"Date\", fontsize = 14)\n",
    "plt.ylabel(\"Price\", fontsize = 14)\n",
    "plt.show()"
   ]
  },
  {
   "cell_type": "markdown",
   "id": "crucial-bench",
   "metadata": {},
   "source": [
    "#### History of stock price growth"
   ]
  },
  {
   "cell_type": "code",
   "execution_count": 16,
   "id": "alien-evaluation",
   "metadata": {},
   "outputs": [
    {
     "data": {
      "image/png": "[encoded data removed]",
      "text/plain": [
       "<Figure size 576x288 with 1 Axes>"
      ]
     },
     "metadata": {
      "needs_background": "light"
     },
     "output_type": "display_data"
    }
   ],
   "source": [
    "plt.figure(figsize=(8,4))\n",
    "plt.plot(data['Date'], data['High'])\n",
    "plt.title(\"Stock Price Growth History\", fontsize = 16)\n",
    "plt.xlabel(\"Date\", fontsize = 14)\n",
    "plt.ylabel(\"Price\", fontsize = 14)\n",
    "plt.show()"
   ]
  },
  {
   "cell_type": "markdown",
   "id": "completed-present",
   "metadata": {},
   "source": [
    "#### History of low stock price "
   ]
  },
  {
   "cell_type": "code",
   "execution_count": 17,
   "id": "understanding-devon",
   "metadata": {},
   "outputs": [
    {
     "data": {
      "image/png": "[encoded data removed]",
      "text/plain": [
       "<Figure size 576x288 with 1 Axes>"
      ]
     },
     "metadata": {
      "needs_background": "light"
     },
     "output_type": "display_data"
    }
   ],
   "source": [
    "plt.figure(figsize=(8,4))\n",
    "plt.plot(data['Date'], data['Low'])\n",
    "plt.title(\"Stock Price lower History\", fontsize = 16)\n",
    "plt.xlabel(\"Date\", fontsize = 14)\n",
    "plt.ylabel(\"Price\", fontsize = 14)\n",
    "plt.show()"
   ]
  },
  {
   "cell_type": "markdown",
   "id": "vulnerable-working",
   "metadata": {},
   "source": [
    "#### History of adjusted close stock price"
   ]
  },
  {
   "cell_type": "code",
   "execution_count": 18,
   "id": "radical-school",
   "metadata": {},
   "outputs": [
    {
     "data": {
      "image/png": "[encoded data removed]",
      "text/plain": [
       "<Figure size 576x288 with 1 Axes>"
      ]
     },
     "metadata": {
      "needs_background": "light"
     },
     "output_type": "display_data"
    }
   ],
   "source": [
    "plt.figure(figsize=(8,4))\n",
    "plt.plot(data['Date'], data['Adj Close'])\n",
    "plt.title(\"Stock Price of Adjusted Close\", fontsize = 16)\n",
    "plt.xlabel(\"Date\", fontsize = 14)\n",
    "plt.ylabel(\"Price\", fontsize = 14)\n",
    "plt.show()"
   ]
  },
  {
   "cell_type": "markdown",
   "id": "persistent-sewing",
   "metadata": {},
   "source": [
    "#### History of stock price volume"
   ]
  },
  {
   "cell_type": "code",
   "execution_count": 19,
   "id": "thorough-adaptation",
   "metadata": {
    "scrolled": true
   },
   "outputs": [
    {
     "data": {
      "image/png": "[encoded data removed]",
      "text/plain": [
       "<Figure size 576x288 with 1 Axes>"
      ]
     },
     "metadata": {
      "needs_background": "light"
     },
     "output_type": "display_data"
    }
   ],
   "source": [
    "plt.figure(figsize=(8,4))\n",
    "plt.plot(data['Date'], data['Volume'])\n",
    "plt.title(\"Stock Price Volume\", fontsize = 16)\n",
    "plt.xlabel(\"Date\", fontsize = 14)\n",
    "plt.ylabel(\"Price\", fontsize = 14)\n",
    "plt.show()"
   ]
  },
  {
   "cell_type": "markdown",
   "id": "demanding-mystery",
   "metadata": {},
   "source": [
    "### Stock market volume price Prediction"
   ]
  },
  {
   "cell_type": "markdown",
   "id": "comparable-majority",
   "metadata": {},
   "source": [
    "#### Assigning values for x and y"
   ]
  },
  {
   "cell_type": "code",
   "execution_count": 20,
   "id": "italic-industry",
   "metadata": {},
   "outputs": [],
   "source": [
    "x = data.iloc[:, 1:7].values\n",
    "y = data.iloc[:, -1].values"
   ]
  },
  {
   "cell_type": "markdown",
   "id": "representative-bulletin",
   "metadata": {},
   "source": [
    "#### Splitting the dataset using train_test_split"
   ]
  },
  {
   "cell_type": "code",
   "execution_count": 21,
   "id": "appreciated-chain",
   "metadata": {},
   "outputs": [],
   "source": [
    "from sklearn.model_selection import train_test_split\n",
    "\n",
    "x_train, x_test, y_train, y_test = train_test_split(x, y, test_size = 1/3, random_state = 0)\n"
   ]
  },
  {
   "cell_type": "markdown",
   "id": "assured-future",
   "metadata": {},
   "source": [
    "#### Standard Scale transform"
   ]
  },
  {
   "cell_type": "code",
   "execution_count": 22,
   "id": "nuclear-warner",
   "metadata": {},
   "outputs": [],
   "source": [
    "from sklearn.preprocessing import StandardScaler\n",
    "sc = StandardScaler()\n",
    "x_train = sc.fit_transform(x_train)\n",
    "x_test = sc.transform(x_test)"
   ]
  },
  {
   "cell_type": "markdown",
   "id": "clean-american",
   "metadata": {},
   "source": [
    "####  Random Forest Regression model training on the Training set"
   ]
  },
  {
   "cell_type": "code",
   "execution_count": 23,
   "id": "former-intermediate",
   "metadata": {},
   "outputs": [
    {
     "name": "stdout",
     "output_type": "stream",
     "text": [
      "The Random Forest Regression model trained\n"
     ]
    }
   ],
   "source": [
    "from sklearn.ensemble import RandomForestRegressor\n",
    "\n",
    "regressor = RandomForestRegressor(n_estimators = 10, random_state = 0)\n",
    "regressor.fit(x_train, y_train)\n",
    "\n",
    "print(\"The Random Forest Regression model trained\")"
   ]
  },
  {
   "cell_type": "code",
   "execution_count": 24,
   "id": "sharing-yellow",
   "metadata": {},
   "outputs": [
    {
     "data": {
      "text/plain": [
       "array([3310671.2, 3056682.6, 1383874. , 2324237.7, 3208125.6, 2163649. ,\n",
       "       3003150.9, 1368383.1, 3003150.9])"
      ]
     },
     "execution_count": 24,
     "metadata": {},
     "output_type": "execute_result"
    }
   ],
   "source": [
    "y_pred = regressor.predict(x_test)\n",
    "y_pred"
   ]
  },
  {
   "cell_type": "markdown",
   "id": "interim-quality",
   "metadata": {},
   "source": [
    "#### Visualizing the Train Result"
   ]
  },
  {
   "cell_type": "code",
   "execution_count": 25,
   "id": "warming-mayor",
   "metadata": {},
   "outputs": [
    {
     "data": {
      "text/html": [
       "<div>\n",
       "<style scoped>\n",
       "    .dataframe tbody tr th:only-of-type {\n",
       "        vertical-align: middle;\n",
       "    }\n",
       "\n",
       "    .dataframe tbody tr th {\n",
       "        vertical-align: top;\n",
       "    }\n",
       "\n",
       "    .dataframe thead th {\n",
       "        text-align: right;\n",
       "    }\n",
       "</style>\n",
       "<table border=\"1\" class=\"dataframe\">\n",
       "  <thead>\n",
       "    <tr style=\"text-align: right;\">\n",
       "      <th></th>\n",
       "    </tr>\n",
       "  </thead>\n",
       "  <tbody>\n",
       "  </tbody>\n",
       "</table>\n",
       "</div>"
      ],
      "text/plain": [
       "Empty DataFrame\n",
       "Columns: []\n",
       "Index: []"
      ]
     },
     "execution_count": 25,
     "metadata": {},
     "output_type": "execute_result"
    }
   ],
   "source": [
    "df = pd.DataFrame()\n",
    "df"
   ]
  },
  {
   "cell_type": "code",
   "execution_count": 26,
   "id": "elementary-bubble",
   "metadata": {},
   "outputs": [
    {
     "data": {
      "text/plain": [
       "0     2337833.6\n",
       "1     2929063.4\n",
       "2     3330498.6\n",
       "3     1414855.8\n",
       "4     1031214.6\n",
       "5     3100056.8\n",
       "6     3145433.6\n",
       "7     3320625.5\n",
       "8     3237530.1\n",
       "9     1726043.6\n",
       "10    2159704.9\n",
       "11    3166796.9\n",
       "12    2278838.4\n",
       "13    2375123.0\n",
       "14    1078524.6\n",
       "15    2197384.7\n",
       "16    1416287.9\n",
       "17    2298349.5\n",
       "Name: predict_train, dtype: float64"
      ]
     },
     "execution_count": 26,
     "metadata": {},
     "output_type": "execute_result"
    }
   ],
   "source": [
    "Pred_x_train = regressor.predict(x_train)\n",
    "\n",
    "df['predict_train'] = Pred_x_train\n",
    "df['predict_train']"
   ]
  },
  {
   "cell_type": "code",
   "execution_count": 27,
   "id": "residential-correspondence",
   "metadata": {},
   "outputs": [
    {
     "data": {
      "image/png": "[encoded data removed]",
      "text/plain": [
       "<Figure size 576x288 with 1 Axes>"
      ]
     },
     "metadata": {
      "needs_background": "light"
     },
     "output_type": "display_data"
    }
   ],
   "source": [
    "plt.figure(figsize=(8,4))\n",
    "plt.plot(df['predict_train'])\n",
    "plt.title(\"Stock Price Volume Train Result\", fontsize = 16)\n",
    "plt.xlabel(\"Date\", fontsize = 14)\n",
    "plt.ylabel(\"Price\", fontsize = 14)\n",
    "plt.show()"
   ]
  },
  {
   "cell_type": "markdown",
   "id": "rocky-hawaiian",
   "metadata": {},
   "source": [
    "#### Visualizing the Test Result"
   ]
  },
  {
   "cell_type": "code",
   "execution_count": 28,
   "id": "strong-munich",
   "metadata": {},
   "outputs": [
    {
     "data": {
      "text/html": [
       "<div>\n",
       "<style scoped>\n",
       "    .dataframe tbody tr th:only-of-type {\n",
       "        vertical-align: middle;\n",
       "    }\n",
       "\n",
       "    .dataframe tbody tr th {\n",
       "        vertical-align: top;\n",
       "    }\n",
       "\n",
       "    .dataframe thead th {\n",
       "        text-align: right;\n",
       "    }\n",
       "</style>\n",
       "<table border=\"1\" class=\"dataframe\">\n",
       "  <thead>\n",
       "    <tr style=\"text-align: right;\">\n",
       "      <th></th>\n",
       "    </tr>\n",
       "  </thead>\n",
       "  <tbody>\n",
       "  </tbody>\n",
       "</table>\n",
       "</div>"
      ],
      "text/plain": [
       "Empty DataFrame\n",
       "Columns: []\n",
       "Index: []"
      ]
     },
     "execution_count": 28,
     "metadata": {},
     "output_type": "execute_result"
    }
   ],
   "source": [
    "df1 = pd.DataFrame()\n",
    "df1"
   ]
  },
  {
   "cell_type": "code",
   "execution_count": 29,
   "id": "alien-arbitration",
   "metadata": {},
   "outputs": [
    {
     "data": {
      "text/plain": [
       "0    3310671.2\n",
       "1    3056682.6\n",
       "2    1383874.0\n",
       "3    2324237.7\n",
       "4    3208125.6\n",
       "5    2163649.0\n",
       "6    3003150.9\n",
       "7    1368383.1\n",
       "8    3003150.9\n",
       "Name: predict, dtype: float64"
      ]
     },
     "execution_count": 29,
     "metadata": {},
     "output_type": "execute_result"
    }
   ],
   "source": [
    "df1['predict'] = y_pred\n",
    "df1['predict']"
   ]
  },
  {
   "cell_type": "code",
   "execution_count": 30,
   "id": "potential-intersection",
   "metadata": {},
   "outputs": [
    {
     "data": {
      "image/png": "[encoded data removed]",
      "text/plain": [
       "<Figure size 576x288 with 1 Axes>"
      ]
     },
     "metadata": {
      "needs_background": "light"
     },
     "output_type": "display_data"
    }
   ],
   "source": [
    "plt.figure(figsize=(8,4))\n",
    "plt.plot(df1['predict'])\n",
    "plt.title(\"Stock Price Volume Test Result\", fontsize = 16)\n",
    "plt.ylabel(\"Price\", fontsize = 14)\n",
    "plt.show()"
   ]
  },
  {
   "cell_type": "markdown",
   "id": "instrumental-pacific",
   "metadata": {},
   "source": [
    "#### Accuracy of model"
   ]
  },
  {
   "cell_type": "code",
   "execution_count": 31,
   "id": "civil-monaco",
   "metadata": {},
   "outputs": [
    {
     "name": "stdout",
     "output_type": "stream",
     "text": [
      "Accuracy score :  0.0\n"
     ]
    }
   ],
   "source": [
    "print(\"Accuracy score : \", np.mean(y_pred==y_test))"
   ]
  },
  {
   "cell_type": "markdown",
   "id": "exotic-workstation",
   "metadata": {},
   "source": [
    "####  Reading and Checking dataset of India News"
   ]
  },
  {
   "cell_type": "code",
   "execution_count": 32,
   "id": "universal-saver",
   "metadata": {},
   "outputs": [
    {
     "data": {
      "text/html": [
       "<div>\n",
       "<style scoped>\n",
       "    .dataframe tbody tr th:only-of-type {\n",
       "        vertical-align: middle;\n",
       "    }\n",
       "\n",
       "    .dataframe tbody tr th {\n",
       "        vertical-align: top;\n",
       "    }\n",
       "\n",
       "    .dataframe thead th {\n",
       "        text-align: right;\n",
       "    }\n",
       "</style>\n",
       "<table border=\"1\" class=\"dataframe\">\n",
       "  <thead>\n",
       "    <tr style=\"text-align: right;\">\n",
       "      <th></th>\n",
       "      <th>publish_date</th>\n",
       "      <th>headline_category</th>\n",
       "      <th>headline_text</th>\n",
       "    </tr>\n",
       "  </thead>\n",
       "  <tbody>\n",
       "    <tr>\n",
       "      <th>0</th>\n",
       "      <td>20010102</td>\n",
       "      <td>unknown</td>\n",
       "      <td>Status quo will not be disturbed at Ayodhya; s...</td>\n",
       "    </tr>\n",
       "    <tr>\n",
       "      <th>1</th>\n",
       "      <td>20010102</td>\n",
       "      <td>unknown</td>\n",
       "      <td>Fissures in Hurriyat over Pak visit</td>\n",
       "    </tr>\n",
       "    <tr>\n",
       "      <th>2</th>\n",
       "      <td>20010102</td>\n",
       "      <td>unknown</td>\n",
       "      <td>America's unwanted heading for India?</td>\n",
       "    </tr>\n",
       "    <tr>\n",
       "      <th>3</th>\n",
       "      <td>20010102</td>\n",
       "      <td>unknown</td>\n",
       "      <td>For bigwigs; it is destination Goa</td>\n",
       "    </tr>\n",
       "    <tr>\n",
       "      <th>4</th>\n",
       "      <td>20010102</td>\n",
       "      <td>unknown</td>\n",
       "      <td>Extra buses to clear tourist traffic</td>\n",
       "    </tr>\n",
       "  </tbody>\n",
       "</table>\n",
       "</div>"
      ],
      "text/plain": [
       "   publish_date headline_category  \\\n",
       "0      20010102           unknown   \n",
       "1      20010102           unknown   \n",
       "2      20010102           unknown   \n",
       "3      20010102           unknown   \n",
       "4      20010102           unknown   \n",
       "\n",
       "                                       headline_text  \n",
       "0  Status quo will not be disturbed at Ayodhya; s...  \n",
       "1                Fissures in Hurriyat over Pak visit  \n",
       "2              America's unwanted heading for India?  \n",
       "3                 For bigwigs; it is destination Goa  \n",
       "4               Extra buses to clear tourist traffic  "
      ]
     },
     "execution_count": 32,
     "metadata": {},
     "output_type": "execute_result"
    }
   ],
   "source": [
    "news_df = pd.read_csv('india-news-headlines.csv')\n",
    "news_df.head()"
   ]
  },
  {
   "cell_type": "code",
   "execution_count": 33,
   "id": "opened-norway",
   "metadata": {},
   "outputs": [
    {
     "data": {
      "text/plain": [
       "(3424067, 3)"
      ]
     },
     "execution_count": 33,
     "metadata": {},
     "output_type": "execute_result"
    }
   ],
   "source": [
    "news_df.shape"
   ]
  },
  {
   "cell_type": "code",
   "execution_count": 34,
   "id": "young-pepper",
   "metadata": {},
   "outputs": [
    {
     "name": "stdout",
     "output_type": "stream",
     "text": [
      "<class 'pandas.core.frame.DataFrame'>\n",
      "RangeIndex: 3424067 entries, 0 to 3424066\n",
      "Data columns (total 3 columns):\n",
      " #   Column             Dtype \n",
      "---  ------             ----- \n",
      " 0   publish_date       int64 \n",
      " 1   headline_category  object\n",
      " 2   headline_text      object\n",
      "dtypes: int64(1), object(2)\n",
      "memory usage: 78.4+ MB\n"
     ]
    }
   ],
   "source": [
    "news_df.info()"
   ]
  },
  {
   "cell_type": "code",
   "execution_count": 35,
   "id": "chronic-bruce",
   "metadata": {},
   "outputs": [
    {
     "data": {
      "text/plain": [
       "publish_date          int64\n",
       "headline_category    object\n",
       "headline_text        object\n",
       "dtype: object"
      ]
     },
     "execution_count": 35,
     "metadata": {},
     "output_type": "execute_result"
    }
   ],
   "source": [
    "news_df.dtypes"
   ]
  },
  {
   "cell_type": "code",
   "execution_count": 36,
   "id": "mounted-certification",
   "metadata": {},
   "outputs": [
    {
     "data": {
      "text/plain": [
       "0          Status quo will not be disturbed at Ayodhya; s...\n",
       "1                        Fissures in Hurriyat over Pak visit\n",
       "2                      America's unwanted heading for India?\n",
       "3                         For bigwigs; it is destination Goa\n",
       "4                       Extra buses to clear tourist traffic\n",
       "                                 ...                        \n",
       "3424062    Covid-19: Despite dip in cases; Rajasthan amon...\n",
       "3424063    Covid-19: Despite dip in cases; Rajasthan amon...\n",
       "3424064    Covid-19: Despite dip in cases; Rajasthan amon...\n",
       "3424065    Govt extends deadline for use of FASTag till F...\n",
       "3424066    Celebs plan to party safely and responsibly on...\n",
       "Name: headline_text, Length: 3424067, dtype: object"
      ]
     },
     "execution_count": 36,
     "metadata": {},
     "output_type": "execute_result"
    }
   ],
   "source": [
    "news_df['headline_text']"
   ]
  },
  {
   "cell_type": "markdown",
   "id": "double-monitoring",
   "metadata": {},
   "source": [
    "#### Removing Duplicates"
   ]
  },
  {
   "cell_type": "code",
   "execution_count": 37,
   "id": "dominant-external",
   "metadata": {},
   "outputs": [
    {
     "data": {
      "text/html": [
       "<div>\n",
       "<style scoped>\n",
       "    .dataframe tbody tr th:only-of-type {\n",
       "        vertical-align: middle;\n",
       "    }\n",
       "\n",
       "    .dataframe tbody tr th {\n",
       "        vertical-align: top;\n",
       "    }\n",
       "\n",
       "    .dataframe thead th {\n",
       "        text-align: right;\n",
       "    }\n",
       "</style>\n",
       "<table border=\"1\" class=\"dataframe\">\n",
       "  <thead>\n",
       "    <tr style=\"text-align: right;\">\n",
       "      <th></th>\n",
       "      <th>publish_date</th>\n",
       "      <th>headline_text</th>\n",
       "    </tr>\n",
       "  </thead>\n",
       "  <tbody>\n",
       "    <tr>\n",
       "      <th>0</th>\n",
       "      <td>2001-01-02</td>\n",
       "      <td>Status quo will not be disturbed at Ayodhya; s...</td>\n",
       "    </tr>\n",
       "    <tr>\n",
       "      <th>1</th>\n",
       "      <td>2001-01-02</td>\n",
       "      <td>Fissures in Hurriyat over Pak visit</td>\n",
       "    </tr>\n",
       "    <tr>\n",
       "      <th>2</th>\n",
       "      <td>2001-01-02</td>\n",
       "      <td>America's unwanted heading for India?</td>\n",
       "    </tr>\n",
       "    <tr>\n",
       "      <th>3</th>\n",
       "      <td>2001-01-02</td>\n",
       "      <td>For bigwigs; it is destination Goa</td>\n",
       "    </tr>\n",
       "    <tr>\n",
       "      <th>4</th>\n",
       "      <td>2001-01-02</td>\n",
       "      <td>Extra buses to clear tourist traffic</td>\n",
       "    </tr>\n",
       "  </tbody>\n",
       "</table>\n",
       "</div>"
      ],
      "text/plain": [
       "  publish_date                                      headline_text\n",
       "0   2001-01-02  Status quo will not be disturbed at Ayodhya; s...\n",
       "1   2001-01-02                Fissures in Hurriyat over Pak visit\n",
       "2   2001-01-02              America's unwanted heading for India?\n",
       "3   2001-01-02                 For bigwigs; it is destination Goa\n",
       "4   2001-01-02               Extra buses to clear tourist traffic"
      ]
     },
     "execution_count": 37,
     "metadata": {},
     "output_type": "execute_result"
    }
   ],
   "source": [
    "news_df.drop('headline_category', axis=1, inplace=True)\n",
    "news_df['publish_date'] = pd.to_datetime(news_df['publish_date'], format='%Y%m%d')\n",
    "news_df.head()"
   ]
  },
  {
   "cell_type": "code",
   "execution_count": 38,
   "id": "occupied-judgment",
   "metadata": {},
   "outputs": [
    {
     "data": {
      "text/html": [
       "<div>\n",
       "<style scoped>\n",
       "    .dataframe tbody tr th:only-of-type {\n",
       "        vertical-align: middle;\n",
       "    }\n",
       "\n",
       "    .dataframe tbody tr th {\n",
       "        vertical-align: top;\n",
       "    }\n",
       "\n",
       "    .dataframe thead th {\n",
       "        text-align: right;\n",
       "    }\n",
       "</style>\n",
       "<table border=\"1\" class=\"dataframe\">\n",
       "  <thead>\n",
       "    <tr style=\"text-align: right;\">\n",
       "      <th></th>\n",
       "      <th>Date</th>\n",
       "      <th>headline_text</th>\n",
       "    </tr>\n",
       "  </thead>\n",
       "  <tbody>\n",
       "    <tr>\n",
       "      <th>0</th>\n",
       "      <td>2001-01-02</td>\n",
       "      <td>Status quo will not be disturbed at Ayodhya; s...</td>\n",
       "    </tr>\n",
       "    <tr>\n",
       "      <th>1</th>\n",
       "      <td>2001-01-02</td>\n",
       "      <td>Fissures in Hurriyat over Pak visit</td>\n",
       "    </tr>\n",
       "    <tr>\n",
       "      <th>2</th>\n",
       "      <td>2001-01-02</td>\n",
       "      <td>America's unwanted heading for India?</td>\n",
       "    </tr>\n",
       "    <tr>\n",
       "      <th>3</th>\n",
       "      <td>2001-01-02</td>\n",
       "      <td>For bigwigs; it is destination Goa</td>\n",
       "    </tr>\n",
       "    <tr>\n",
       "      <th>4</th>\n",
       "      <td>2001-01-02</td>\n",
       "      <td>Extra buses to clear tourist traffic</td>\n",
       "    </tr>\n",
       "  </tbody>\n",
       "</table>\n",
       "</div>"
      ],
      "text/plain": [
       "        Date                                      headline_text\n",
       "0 2001-01-02  Status quo will not be disturbed at Ayodhya; s...\n",
       "1 2001-01-02                Fissures in Hurriyat over Pak visit\n",
       "2 2001-01-02              America's unwanted heading for India?\n",
       "3 2001-01-02                 For bigwigs; it is destination Goa\n",
       "4 2001-01-02               Extra buses to clear tourist traffic"
      ]
     },
     "execution_count": 38,
     "metadata": {},
     "output_type": "execute_result"
    }
   ],
   "source": [
    "news_df.rename(columns={'publish_date': 'Date'}, inplace = True)\n",
    "\n",
    "news_df = news_df.drop_duplicates()\n",
    "news_df.reset_index(inplace=True, drop=True)\n",
    "news_df.head()"
   ]
  },
  {
   "cell_type": "code",
   "execution_count": 39,
   "id": "coral-yahoo",
   "metadata": {},
   "outputs": [],
   "source": [
    "news_df = news_df[:1000]"
   ]
  },
  {
   "cell_type": "markdown",
   "id": "british-upgrade",
   "metadata": {},
   "source": [
    "#### Importing TextBlob"
   ]
  },
  {
   "cell_type": "code",
   "execution_count": 40,
   "id": "recovered-shareware",
   "metadata": {},
   "outputs": [
    {
     "data": {
      "text/html": [
       "<div>\n",
       "<style scoped>\n",
       "    .dataframe tbody tr th:only-of-type {\n",
       "        vertical-align: middle;\n",
       "    }\n",
       "\n",
       "    .dataframe tbody tr th {\n",
       "        vertical-align: top;\n",
       "    }\n",
       "\n",
       "    .dataframe thead th {\n",
       "        text-align: right;\n",
       "    }\n",
       "</style>\n",
       "<table border=\"1\" class=\"dataframe\">\n",
       "  <thead>\n",
       "    <tr style=\"text-align: right;\">\n",
       "      <th></th>\n",
       "      <th>Date</th>\n",
       "      <th>headline_text</th>\n",
       "      <th>Subjectivity</th>\n",
       "      <th>Polarity</th>\n",
       "    </tr>\n",
       "  </thead>\n",
       "  <tbody>\n",
       "    <tr>\n",
       "      <th>0</th>\n",
       "      <td>2001-01-02</td>\n",
       "      <td>Status quo will not be disturbed at Ayodhya; s...</td>\n",
       "      <td>0.000000</td>\n",
       "      <td>0.00</td>\n",
       "    </tr>\n",
       "    <tr>\n",
       "      <th>1</th>\n",
       "      <td>2001-01-02</td>\n",
       "      <td>Fissures in Hurriyat over Pak visit</td>\n",
       "      <td>0.000000</td>\n",
       "      <td>0.00</td>\n",
       "    </tr>\n",
       "    <tr>\n",
       "      <th>2</th>\n",
       "      <td>2001-01-02</td>\n",
       "      <td>America's unwanted heading for India?</td>\n",
       "      <td>0.000000</td>\n",
       "      <td>0.00</td>\n",
       "    </tr>\n",
       "    <tr>\n",
       "      <th>3</th>\n",
       "      <td>2001-01-02</td>\n",
       "      <td>For bigwigs; it is destination Goa</td>\n",
       "      <td>0.000000</td>\n",
       "      <td>0.00</td>\n",
       "    </tr>\n",
       "    <tr>\n",
       "      <th>4</th>\n",
       "      <td>2001-01-02</td>\n",
       "      <td>Extra buses to clear tourist traffic</td>\n",
       "      <td>0.241667</td>\n",
       "      <td>0.05</td>\n",
       "    </tr>\n",
       "  </tbody>\n",
       "</table>\n",
       "</div>"
      ],
      "text/plain": [
       "        Date                                      headline_text  Subjectivity  \\\n",
       "0 2001-01-02  Status quo will not be disturbed at Ayodhya; s...      0.000000   \n",
       "1 2001-01-02                Fissures in Hurriyat over Pak visit      0.000000   \n",
       "2 2001-01-02              America's unwanted heading for India?      0.000000   \n",
       "3 2001-01-02                 For bigwigs; it is destination Goa      0.000000   \n",
       "4 2001-01-02               Extra buses to clear tourist traffic      0.241667   \n",
       "\n",
       "   Polarity  \n",
       "0      0.00  \n",
       "1      0.00  \n",
       "2      0.00  \n",
       "3      0.00  \n",
       "4      0.05  "
      ]
     },
     "execution_count": 40,
     "metadata": {},
     "output_type": "execute_result"
    }
   ],
   "source": [
    "from textblob import TextBlob\n",
    "\n",
    "def getSubjectivity(text):\n",
    "    return TextBlob(text).sentiment.subjectivity\n",
    "\n",
    "def getPolarity(text):\n",
    "    return TextBlob(text).sentiment.polarity\n",
    "\n",
    "news_df['Subjectivity'] = news_df['headline_text'].apply(getSubjectivity)\n",
    "news_df['Polarity'] = news_df['headline_text'].apply(getPolarity)\n",
    "news_df.head()"
   ]
  },
  {
   "cell_type": "code",
   "execution_count": 41,
   "id": "committed-thermal",
   "metadata": {},
   "outputs": [
    {
     "data": {
      "image/png": "[encoded data removed]",
      "text/plain": [
       "<Figure size 576x288 with 1 Axes>"
      ]
     },
     "metadata": {
      "needs_background": "light"
     },
     "output_type": "display_data"
    }
   ],
   "source": [
    "plt.figure(figsize = (8,4))\n",
    "news_df['Subjectivity'].hist()\n",
    "plt.show()"
   ]
  },
  {
   "cell_type": "code",
   "execution_count": 42,
   "id": "classical-server",
   "metadata": {},
   "outputs": [
    {
     "data": {
      "image/png": "[encoded data removed]",
      "text/plain": [
       "<Figure size 576x288 with 1 Axes>"
      ]
     },
     "metadata": {
      "needs_background": "light"
     },
     "output_type": "display_data"
    }
   ],
   "source": [
    "plt.figure(figsize = (8,4))\n",
    "news_df['Polarity'].hist()\n",
    "plt.show()"
   ]
  },
  {
   "cell_type": "markdown",
   "id": "multiple-delay",
   "metadata": {},
   "source": [
    "#### SentimentIntensity Analyzer"
   ]
  },
  {
   "cell_type": "code",
   "execution_count": 43,
   "id": "liable-puzzle",
   "metadata": {},
   "outputs": [
    {
     "data": {
      "text/html": [
       "<div>\n",
       "<style scoped>\n",
       "    .dataframe tbody tr th:only-of-type {\n",
       "        vertical-align: middle;\n",
       "    }\n",
       "\n",
       "    .dataframe tbody tr th {\n",
       "        vertical-align: top;\n",
       "    }\n",
       "\n",
       "    .dataframe thead th {\n",
       "        text-align: right;\n",
       "    }\n",
       "</style>\n",
       "<table border=\"1\" class=\"dataframe\">\n",
       "  <thead>\n",
       "    <tr style=\"text-align: right;\">\n",
       "      <th></th>\n",
       "      <th>Date</th>\n",
       "      <th>headline_text</th>\n",
       "      <th>Subjectivity</th>\n",
       "      <th>Polarity</th>\n",
       "      <th>compound</th>\n",
       "      <th>Negative</th>\n",
       "      <th>Neutral</th>\n",
       "      <th>Positive</th>\n",
       "    </tr>\n",
       "  </thead>\n",
       "  <tbody>\n",
       "    <tr>\n",
       "      <th>0</th>\n",
       "      <td>2001-01-02</td>\n",
       "      <td>Status quo will not be disturbed at Ayodhya; s...</td>\n",
       "      <td>0.000000</td>\n",
       "      <td>0.00</td>\n",
       "      <td>0.2924</td>\n",
       "      <td>0.000</td>\n",
       "      <td>0.805</td>\n",
       "      <td>0.195</td>\n",
       "    </tr>\n",
       "    <tr>\n",
       "      <th>1</th>\n",
       "      <td>2001-01-02</td>\n",
       "      <td>Fissures in Hurriyat over Pak visit</td>\n",
       "      <td>0.000000</td>\n",
       "      <td>0.00</td>\n",
       "      <td>0.0000</td>\n",
       "      <td>0.000</td>\n",
       "      <td>1.000</td>\n",
       "      <td>0.000</td>\n",
       "    </tr>\n",
       "    <tr>\n",
       "      <th>2</th>\n",
       "      <td>2001-01-02</td>\n",
       "      <td>America's unwanted heading for India?</td>\n",
       "      <td>0.000000</td>\n",
       "      <td>0.00</td>\n",
       "      <td>-0.2263</td>\n",
       "      <td>0.322</td>\n",
       "      <td>0.678</td>\n",
       "      <td>0.000</td>\n",
       "    </tr>\n",
       "    <tr>\n",
       "      <th>3</th>\n",
       "      <td>2001-01-02</td>\n",
       "      <td>For bigwigs; it is destination Goa</td>\n",
       "      <td>0.000000</td>\n",
       "      <td>0.00</td>\n",
       "      <td>0.0000</td>\n",
       "      <td>0.000</td>\n",
       "      <td>1.000</td>\n",
       "      <td>0.000</td>\n",
       "    </tr>\n",
       "    <tr>\n",
       "      <th>4</th>\n",
       "      <td>2001-01-02</td>\n",
       "      <td>Extra buses to clear tourist traffic</td>\n",
       "      <td>0.241667</td>\n",
       "      <td>0.05</td>\n",
       "      <td>0.3818</td>\n",
       "      <td>0.000</td>\n",
       "      <td>0.658</td>\n",
       "      <td>0.342</td>\n",
       "    </tr>\n",
       "  </tbody>\n",
       "</table>\n",
       "</div>"
      ],
      "text/plain": [
       "        Date                                      headline_text  Subjectivity  \\\n",
       "0 2001-01-02  Status quo will not be disturbed at Ayodhya; s...      0.000000   \n",
       "1 2001-01-02                Fissures in Hurriyat over Pak visit      0.000000   \n",
       "2 2001-01-02              America's unwanted heading for India?      0.000000   \n",
       "3 2001-01-02                 For bigwigs; it is destination Goa      0.000000   \n",
       "4 2001-01-02               Extra buses to clear tourist traffic      0.241667   \n",
       "\n",
       "   Polarity  compound  Negative  Neutral  Positive  \n",
       "0      0.00    0.2924     0.000    0.805     0.195  \n",
       "1      0.00    0.0000     0.000    1.000     0.000  \n",
       "2      0.00   -0.2263     0.322    0.678     0.000  \n",
       "3      0.00    0.0000     0.000    1.000     0.000  \n",
       "4      0.05    0.3818     0.000    0.658     0.342  "
      ]
     },
     "execution_count": 43,
     "metadata": {},
     "output_type": "execute_result"
    }
   ],
   "source": [
    "from vaderSentiment.vaderSentiment import SentimentIntensityAnalyzer \n",
    "\n",
    "senti_ana = SentimentIntensityAnalyzer()\n",
    "\n",
    "news_df['compound'] = [senti_ana.polarity_scores(i)['compound'] for i in news_df['headline_text']]\n",
    "news_df['Negative'] = [senti_ana.polarity_scores(i)['neg'] for i in news_df['headline_text']]\n",
    "news_df['Neutral'] = [senti_ana.polarity_scores(i)['neu'] for i in news_df['headline_text']]\n",
    "news_df['Positive'] = [senti_ana.polarity_scores(i)['pos'] for i in news_df['headline_text']]\n",
    "\n",
    "news_df.head()"
   ]
  },
  {
   "cell_type": "markdown",
   "id": "casual-transcript",
   "metadata": {},
   "source": [
    "####  The Accuracy of our prediction using this model is 48 % Accurate.\n",
    "####  News headline data and stock data have different month of year 2001 and 2021 respectively. so news headline not that much useful for stock prediction."
   ]
  },
  {
   "cell_type": "markdown",
   "id": "informed-forty",
   "metadata": {},
   "source": [
    "#### Thank You"
   ]
  }
 ],
 "metadata": {
  "kernelspec": {
   "display_name": "Python 3",
   "language": "python",
   "name": "python3"
  },
  "language_info": {
   "codemirror_mode": {
    "name": "ipython",
    "version": 3
   },
   "file_extension": ".py",
   "mimetype": "text/x-python",
   "name": "python",
   "nbconvert_exporter": "python",
   "pygments_lexer": "ipython3",
   "version": "3.6.9"
  }
 },
 "nbformat": 4,
 "nbformat_minor": 5
}
